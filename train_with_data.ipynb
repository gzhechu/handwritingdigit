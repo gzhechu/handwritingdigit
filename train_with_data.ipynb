{
 "cells": [
  {
   "cell_type": "markdown",
   "id": "48a344d8-35fc-43b0-81a9-6bd6e89b4c29",
   "metadata": {},
   "source": [
    "This section runs through the API for common tasks in machine learning. Refer to the links in each section to dive deeper.\n",
    "\n",
    "本节将介绍机器学习中常见任务的API。请参阅每个部分中的链接以深入了解。\n",
    "\n",
    "# 使用历史数据训练模型\n",
    "\n",
    "### 本文档参考官方 Quick Start 改编而来 \n",
    "参考：https://pytorch.org/tutorials/beginner/basics/quickstart_tutorial.html"
   ]
  },
  {
   "cell_type": "markdown",
   "id": "a4fc72d0-528a-457d-a2cc-d1233d0f4637",
   "metadata": {},
   "source": [
    "PyTorch has two primitives to work with data: torch.utils.data.DataLoader and torch.utils.data.Dataset. Dataset stores the samples and their corresponding labels, and DataLoader wraps an iterable around the Dataset.\n",
    "\n",
    "PyTorch有两个处理数据的原语:torch.utils.data.DataLoader 和 torch.utils.data.Dataset。Dataset存储样本及其相应的标签，DataLoader在Dataset周围包装一个可迭代对象。"
   ]
  },
  {
   "cell_type": "code",
   "execution_count": 1,
   "id": "62739355-37a1-4109-b4d3-f8ec99572921",
   "metadata": {},
   "outputs": [],
   "source": [
    "import torch\n",
    "from torch import nn\n",
    "from torch.utils.data import DataLoader\n",
    "from torchvision import datasets\n",
    "from torchvision.transforms import ToTensor\n",
    "import matplotlib.pyplot as plt"
   ]
  },
  {
   "cell_type": "markdown",
   "id": "c59c6ebe-031a-44be-bc51-90ad71953a21",
   "metadata": {},
   "source": [
    "PyTorch offers domain-specific libraries such as TorchText, TorchVision, and TorchAudio, all of which include datasets. For this tutorial, we will be using a TorchVision dataset.\n",
    "\n",
    "PyTorch提供了特定领域的库，如TorchText, TorchVision和TorchAudio，它们都包含数据集。在本教程中，我们将使用TorchVision数据集。\n",
    "\n",
    "The torchvision.datasets module contains Dataset objects for many real-world vision data like CIFAR, COCO (full list here). In this tutorial, we use the FashionMNIST dataset. Every TorchVision Dataset includes two arguments: transform and target_transform to modify the samples and labels respectively.\n",
    "\n",
    "torchvision.datassets模块包含许多真实世界视觉数据的 Dataset 对象，如 CIFAR, COCO (完整列表在这里)。在本教程中，我们使用 MNIST 数据集。每个TorchVision数据集包含两个参数:transform和target_transform，分别用于修改样本和标签。"
   ]
  },
  {
   "cell_type": "code",
   "execution_count": 2,
   "id": "e55baded-ec0c-4f87-b684-0a3112497093",
   "metadata": {
    "editable": true,
    "slideshow": {
     "slide_type": ""
    },
    "tags": []
   },
   "outputs": [
    {
     "name": "stdout",
     "output_type": "stream",
     "text": [
      "size of training_data torch.Size([60000, 28, 28])\n",
      "size of test_data torch.Size([10000, 28, 28])\n"
     ]
    }
   ],
   "source": [
    "# Download training data from open datasets.\n",
    "training_data = datasets.MNIST(\n",
    "    root=\"data\",\n",
    "    train=True,\n",
    "    download=True,\n",
    "    transform=ToTensor(),\n",
    ")\n",
    "\n",
    "# Download test data from open datasets.\n",
    "test_data = datasets.MNIST(\n",
    "    root=\"data\",\n",
    "    train=False,\n",
    "    download=True,\n",
    "    transform=ToTensor(),\n",
    ")\n",
    "\n",
    "print(\"size of training_data\", training_data.data.size())\n",
    "print(\"size of test_data\", test_data.data.size())\n"
   ]
  },
  {
   "cell_type": "markdown",
   "id": "4875d68d-17e1-40a6-a5c4-2d103026485b",
   "metadata": {},
   "source": [
    "We pass the Dataset as an argument to DataLoader. This wraps an iterable over our dataset, and supports automatic batching, sampling, shuffling and multiprocess data loading. Here we define a batch size of 64, i.e. each element in the dataloader iterable will return a batch of 64 features and labels.\n",
    "\n",
    "我们将Dataset作为参数传递给DataLoader。这在我们的数据集上包装了一个可迭代对象，并支持自动批处理、采样、混排和多进程数据加载。这里我们定义了一个批处理大小为64，即dataloader可迭代对象中的每个元素将返回一批64个特征和标签。"
   ]
  },
  {
   "cell_type": "code",
   "execution_count": 3,
   "id": "5bbbc884-2ca4-4393-8807-51fd0da01f54",
   "metadata": {},
   "outputs": [
    {
     "name": "stdout",
     "output_type": "stream",
     "text": [
      "Shape of X [N, C, H, W]: torch.Size([64, 1, 28, 28])\n",
      "Shape of y: torch.Size([64]) torch.int64\n"
     ]
    }
   ],
   "source": [
    "batch_size = 64\n",
    "\n",
    "# Create data loaders.\n",
    "train_dataloader = DataLoader(training_data, batch_size=batch_size)\n",
    "test_dataloader = DataLoader(test_data, batch_size=batch_size)\n",
    "\n",
    "for X, y in test_dataloader:\n",
    "    print(f\"Shape of X [N, C, H, W]: {X.shape}\")\n",
    "    print(f\"Shape of y: {y.shape} {y.dtype}\")\n",
    "    break"
   ]
  },
  {
   "cell_type": "markdown",
   "id": "644f6991-8e75-47b1-acee-a7c2d2afa6b1",
   "metadata": {},
   "source": [
    "预览数据的内容"
   ]
  },
  {
   "cell_type": "code",
   "execution_count": 4,
   "id": "2b855406-de60-4a12-a0f4-438d559a4766",
   "metadata": {},
   "outputs": [
    {
     "data": {
      "image/png": "[encoded data removed]",
      "text/plain": [
       "<Figure size 1000x600 with 15 Axes>"
      ]
     },
     "metadata": {},
     "output_type": "display_data"
    }
   ],
   "source": [
    "# 显示验证数据的样本图片\n",
    "fig, ax = plt.subplots(3, 5, figsize=(10, 6))\n",
    "for i, axi in enumerate(ax.flat):\n",
    "    axi.imshow(X[i].reshape(28, 28), cmap=\"bone\")\n",
    "    axi.set(xticks=[], yticks=[])\n",
    "plt.show()"
   ]
  },
  {
   "cell_type": "code",
   "execution_count": 5,
   "id": "4ddbe08e-82f1-4d71-86df-53499c62bf58",
   "metadata": {},
   "outputs": [
    {
     "name": "stdout",
     "output_type": "stream",
     "text": [
      "tensor([7, 2, 1, 0, 4, 1, 4, 9, 5, 9, 0, 6, 9, 0, 1])\n"
     ]
    }
   ],
   "source": [
    "# 打印训练数据中的标签值\n",
    "print(y[0:3*5])"
   ]
  },
  {
   "cell_type": "markdown",
   "id": "2343bc42-8ab3-4023-b93c-51d0f9775f8f",
   "metadata": {},
   "source": [
    "# 创建模型 Create the Models\n",
    "To define a neural network in PyTorch, we create a class that inherits from nn.Module. We define the layers of the network in the __init__ function and specify how data will pass through the network in the forward function. To accelerate operations in the neural network, we move it to the GPU or MPS if available.\n",
    "\n",
    "为了在PyTorch中定义一个神经网络，我们创建了一个继承了nn.Module的类。我们在init函数中定义网络层，并在 forward 函数中指定数据如何通过网络函数。为了加速神经网络的操作，我们将其转移到GPU或MPS(如果可用)。"
   ]
  },
  {
   "cell_type": "code",
   "execution_count": 6,
   "id": "894276f8-25e7-4a66-838b-e66b6ef89bdd",
   "metadata": {
    "editable": true,
    "slideshow": {
     "slide_type": ""
    },
    "tags": []
   },
   "outputs": [
    {
     "name": "stdout",
     "output_type": "stream",
     "text": [
      "Using cpu device\n",
      "NeuralNetwork(\n",
      "  (flatten): Flatten(start_dim=1, end_dim=-1)\n",
      "  (linear_relu_stack): Sequential(\n",
      "    (0): Linear(in_features=784, out_features=64, bias=True)\n",
      "    (1): ReLU()\n",
      "    (2): Linear(in_features=64, out_features=64, bias=True)\n",
      "    (3): ReLU()\n",
      "    (4): Linear(in_features=64, out_features=10, bias=True)\n",
      "  )\n",
      ")\n"
     ]
    }
   ],
   "source": [
    "# Get cpu, gpu or mps device for training.\n",
    "device = (\n",
    "    \"cuda\"\n",
    "    if torch.cuda.is_available()\n",
    "    else \"mps\"\n",
    "    if torch.backends.mps.is_available()\n",
    "    else \"cpu\"\n",
    ")\n",
    "print(f\"Using {device} device\")\n",
    "\n",
    "# Define model\n",
    "class NeuralNetwork(nn.Module):\n",
    "    def __init__(self):\n",
    "        super().__init__()\n",
    "        self.flatten = nn.Flatten()\n",
    "        self.linear_relu_stack = nn.Sequential(\n",
    "            nn.Linear(28*28, 64),\n",
    "            nn.ReLU(),\n",
    "            nn.Linear(64, 64),\n",
    "            nn.ReLU(),\n",
    "            nn.Linear(64, 10)\n",
    "        )\n",
    "\n",
    "    def forward(self, x):\n",
    "        x = self.flatten(x)\n",
    "        logits = self.linear_relu_stack(x)\n",
    "        return logits\n",
    "\n",
    "model = NeuralNetwork().to(device)\n",
    "print(model)"
   ]
  },
  {
   "cell_type": "markdown",
   "id": "b889d1da-ad7b-4fd8-8896-4eadd0ac6d42",
   "metadata": {},
   "source": [
    "# 优化模型参数 Optimizing the Model Parameters\n",
    "To train a model, we need a loss function and an optimizer."
   ]
  },
  {
   "cell_type": "code",
   "execution_count": 7,
   "id": "55ae6d0e-163d-4557-8e35-1a60dc7242bd",
   "metadata": {},
   "outputs": [],
   "source": [
    "loss_fn = nn.CrossEntropyLoss()\n",
    "optimizer = torch.optim.SGD(model.parameters(), lr=1e-3)"
   ]
  },
  {
   "cell_type": "markdown",
   "id": "827df235-8572-4182-bacf-2864d48d98db",
   "metadata": {},
   "source": [
    "In a single training loop, the model makes predictions on the training dataset (fed to it in batches), and backpropagates the prediction error to adjust the model’s parameters.\n",
    "\n",
    "在单个训练循环中，模型对训练数据集进行预测(批量提供给它)，并反向传播预测误差以调整模型的参数。"
   ]
  },
  {
   "cell_type": "code",
   "execution_count": 8,
   "id": "946a0d14-9679-4c87-8037-24310985e4c9",
   "metadata": {},
   "outputs": [],
   "source": [
    "def train(dataloader, model, loss_fn, optimizer):\n",
    "    size = len(dataloader.dataset)\n",
    "    model.train()\n",
    "    for batch, (X, y) in enumerate(dataloader):\n",
    "        X, y = X.to(device), y.to(device)\n",
    "\n",
    "        # Compute prediction error\n",
    "        pred = model(X)\n",
    "        loss = loss_fn(pred, y)\n",
    "\n",
    "        # Backpropagation\n",
    "        loss.backward()\n",
    "        optimizer.step()\n",
    "        optimizer.zero_grad()\n",
    "\n",
    "        if batch % 100 == 0:\n",
    "            loss, current = loss.item(), (batch + 1) * len(X)\n",
    "            # print(f\"loss: {loss:>7f}  [{current:>5d}/{size:>5d}]\")"
   ]
  },
  {
   "cell_type": "markdown",
   "id": "96afe03a-b3a2-4e5f-871a-4ce898203567",
   "metadata": {},
   "source": [
    "We also check the model’s performance against the test dataset to ensure it is learning.\n",
    "\n",
    "我们还根据测试数据集检查模型的性能，以确保它在学习。"
   ]
  },
  {
   "cell_type": "code",
   "execution_count": 9,
   "id": "f40ce599-b5a0-4a54-8230-2ede199f699c",
   "metadata": {},
   "outputs": [],
   "source": [
    "def test(dataloader, model, loss_fn):\n",
    "    size = len(dataloader.dataset)\n",
    "    num_batches = len(dataloader)\n",
    "    model.eval()\n",
    "    test_loss, correct = 0, 0\n",
    "    with torch.no_grad():\n",
    "        for X, y in dataloader:\n",
    "            X, y = X.to(device), y.to(device)\n",
    "            pred = model(X)\n",
    "            test_loss += loss_fn(pred, y).item()\n",
    "            correct += (pred.argmax(1) == y).type(torch.float).sum().item()\n",
    "    test_loss /= num_batches\n",
    "    correct /= size\n",
    "    print(f\"Accuracy: {(100*correct):>0.1f}%, Avg loss: {test_loss:>8f}\")"
   ]
  },
  {
   "cell_type": "markdown",
   "id": "6464d217-5520-42e6-9bc0-2ecdfc824428",
   "metadata": {},
   "source": [
    "The training process is conducted over several iterations (epochs). During each epoch, the model learns parameters to make better predictions. We print the model’s accuracy and loss at each epoch; we’d like to see the accuracy increase and the loss decrease with every epoch.\n",
    "\n",
    "训练过程在几个迭代( epochs )中进行。在每个时期，模型学习参数以做出更好的预测。我们打印出模型在每个时期的精度和损失;我们希望看到精度随着时间的推移而提高，损失随着时间的推移而减少。"
   ]
  },
  {
   "cell_type": "code",
   "execution_count": 20,
   "id": "1c3e0b95-55c3-4f9d-a8bc-1e4edf54fae6",
   "metadata": {},
   "outputs": [
    {
     "name": "stdout",
     "output_type": "stream",
     "text": [
      "Epoch 1 ... \n",
      "Accuracy: 94.8%, Avg loss: 0.174271\n",
      "-------------------------------------------\n",
      "Epoch 2 ... \n",
      "Accuracy: 94.8%, Avg loss: 0.173666\n",
      "-------------------------------------------\n",
      "Epoch 3 ... \n",
      "Accuracy: 94.8%, Avg loss: 0.173064\n",
      "-------------------------------------------\n",
      "Epoch 4 ... \n",
      "Accuracy: 94.8%, Avg loss: 0.172471\n",
      "-------------------------------------------\n",
      "Epoch 5 ... \n",
      "Accuracy: 94.8%, Avg loss: 0.171880\n",
      "-------------------------------------------\n",
      "Epoch 6 ... \n",
      "Accuracy: 94.9%, Avg loss: 0.171294\n",
      "-------------------------------------------\n",
      "Epoch 7 ... \n",
      "Accuracy: 94.9%, Avg loss: 0.170717\n",
      "-------------------------------------------\n",
      "Epoch 8 ... \n",
      "Accuracy: 94.9%, Avg loss: 0.170146\n",
      "-------------------------------------------\n",
      "Epoch 9 ... \n",
      "Accuracy: 95.0%, Avg loss: 0.169579\n",
      "-------------------------------------------\n",
      "Epoch 10 ... \n",
      "Accuracy: 95.0%, Avg loss: 0.169017\n",
      "-------------------------------------------\n",
      "Epoch 11 ... \n",
      "Accuracy: 95.0%, Avg loss: 0.168461\n",
      "-------------------------------------------\n",
      "Epoch 12 ... \n",
      "Accuracy: 95.0%, Avg loss: 0.167913\n",
      "-------------------------------------------\n",
      "Epoch 13 ... \n",
      "Accuracy: 95.0%, Avg loss: 0.167367\n",
      "-------------------------------------------\n",
      "Epoch 14 ... \n",
      "Accuracy: 95.0%, Avg loss: 0.166825\n",
      "-------------------------------------------\n",
      "Epoch 15 ... \n",
      "Accuracy: 95.0%, Avg loss: 0.166288\n",
      "-------------------------------------------\n",
      "Epoch 16 ... \n",
      "Accuracy: 95.0%, Avg loss: 0.165755\n",
      "-------------------------------------------\n",
      "Done!\n"
     ]
    }
   ],
   "source": [
    "epochs = 16\n",
    "for t in range(epochs):\n",
    "    print(f\"Epoch {t+1} ... \")\n",
    "    train(train_dataloader, model, loss_fn, optimizer)\n",
    "    test(test_dataloader, model, loss_fn)\n",
    "    print(\"-------------------------------------------\")\n",
    "print(\"Done!\")"
   ]
  },
  {
   "cell_type": "markdown",
   "id": "8720fca3-8298-4ee6-b911-5923340b1ccd",
   "metadata": {},
   "source": [
    "# 保存 Saving Models\n",
    "A common way to save a model is to serialize the internal state dictionary (containing the model parameters).\n",
    "\n",
    "保存模型的一种常用方法是序列化内部状态字典(包含模型参数)。"
   ]
  },
  {
   "cell_type": "code",
   "execution_count": 21,
   "id": "42cbcae3-6259-42c4-ba38-dc323bd3e4a0",
   "metadata": {},
   "outputs": [
    {
     "name": "stdout",
     "output_type": "stream",
     "text": [
      "Saved PyTorch Model State to model.pth\n"
     ]
    }
   ],
   "source": [
    "torch.save(model.state_dict(), \"model.pth\")\n",
    "print(\"Saved PyTorch Model State to model.pth\")"
   ]
  },
  {
   "cell_type": "markdown",
   "id": "352201e0-e01c-4b97-bb72-fa491e099b83",
   "metadata": {},
   "source": [
    "# 读取载入模型 Loading Models\n",
    "The process for loading a model includes re-creating the model structure and loading the state dictionary into it.\n",
    "\n",
    "加载模型的过程包括重新创建模型结构并将状态字典加载到模型中。"
   ]
  },
  {
   "cell_type": "code",
   "execution_count": 22,
   "id": "196b2b27-d98f-4b3e-a7ad-fcda3c2e14bb",
   "metadata": {},
   "outputs": [
    {
     "data": {
      "text/plain": [
       "<All keys matched successfully>"
      ]
     },
     "execution_count": 22,
     "metadata": {},
     "output_type": "execute_result"
    }
   ],
   "source": [
    "model = NeuralNetwork().to(device)\n",
    "model.load_state_dict(torch.load(\"model.pth\"))"
   ]
  },
  {
   "cell_type": "markdown",
   "id": "583ff4c8-a377-452c-9c76-a5d357383319",
   "metadata": {},
   "source": [
    "This model can now be used to make predictions.\n",
    "现在，这个模型现在可以被用来做预测数据。"
   ]
  },
  {
   "cell_type": "code",
   "execution_count": 23,
   "id": "ff1d812d-8253-4fee-b6cc-3f5dc4b7f3c7",
   "metadata": {},
   "outputs": [
    {
     "name": "stdout",
     "output_type": "stream",
     "text": [
      "Predicted: \"7\", Actual: \"7\"\n"
     ]
    }
   ],
   "source": [
    "classes = [\"0\", \"1\", \"2\", \"3\", \"4\", \"5\", \"6\", \"7\", \"8\", \"9\"]\n",
    "\n",
    "model.eval()\n",
    "x, y = test_data[0][0], test_data[0][1]\n",
    "with torch.no_grad():\n",
    "    x = x.to(device)\n",
    "    pred = model(x)\n",
    "    predicted, actual = classes[pred[0].argmax(0)], classes[y]\n",
    "    print(f'Predicted: \"{predicted}\", Actual: \"{actual}\"')"
   ]
  },
  {
   "cell_type": "code",
   "execution_count": 24,
   "id": "309c7455-99b6-4264-b917-45060cc81597",
   "metadata": {},
   "outputs": [
    {
     "data": {
      "image/png": "[encoded data removed]",
      "text/plain": [
       "<Figure size 1000x700 with 15 Axes>"
      ]
     },
     "metadata": {},
     "output_type": "display_data"
    }
   ],
   "source": [
    "fig, ax = plt.subplots(3, 5, figsize=(10, 7))  # 创建一个2行4列的画布\n",
    "for i, axi in enumerate(ax.flat):\n",
    "    t = int(torch.randint(low=0, high=10000, size=(1, 1))[0][0])  # 生成随机整数t作为测试集的下标，可随机选取测试集中的图片\n",
    "    x, y = test_data[t][0], test_data[t][1]\n",
    "    x = x.to(device)\n",
    "    pred = model(x)\n",
    "    pred = model(x)\n",
    "    predicted, actual = classes[pred[0].argmax(0)], classes[y]\n",
    "    axi.imshow(x.reshape(28, 28), cmap=\"bone\")  # 绘制图像\n",
    "    axi.set(xticks=[], yticks=[])\n",
    "    axi.set_xlabel(f\"实际：{actual}\\n预测：{predicted}\")\n",
    "plt.rcParams[\"font.sans-serif\"] = \"FangSong\"\n",
    "plt.show()"
   ]
  },
  {
   "cell_type": "code",
   "execution_count": null,
   "id": "6b07b1e9-7356-4ec2-bc84-82e7c2f8d180",
   "metadata": {},
   "outputs": [],
   "source": []
  }
 ],
 "metadata": {
  "kernelspec": {
   "display_name": "Python 3 (ipykernel)",
   "language": "python",
   "name": "python3"
  },
  "language_info": {
   "codemirror_mode": {
    "name": "ipython",
    "version": 3
   },
   "file_extension": ".py",
   "mimetype": "text/x-python",
   "name": "python",
   "nbconvert_exporter": "python",
   "pygments_lexer": "ipython3",
   "version": "3.11.2"
  }
 },
 "nbformat": 4,
 "nbformat_minor": 5
}
